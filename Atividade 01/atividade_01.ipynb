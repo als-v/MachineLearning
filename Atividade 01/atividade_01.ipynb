{
 "cells": [
  {
   "cell_type": "markdown",
   "id": "f55f410f",
   "metadata": {},
   "source": [
    "# Atividade 01: Desenvolvimento de um Classificador Binário por Limiar\n",
    "### Aluno: Alisson da Silva Vieira"
   ]
  },
  {
   "cell_type": "markdown",
   "metadata": {},
   "source": [
    "# Bibliotecas utilizadas\n",
    "- Numpy: É uma biblioteca fundamental para computação científica em Python, que fornece um objeto de matriz multidimensional, vários objetos derivados (como matrizes e matrizes mascaradas) e uma variedade de rotinas para operações rápidas em matrizes.\n",
    "- Pandas: É uma biblioteca que fornece estruturas de dados rápidas, flexíveis e expressivas projetadas para tornar o trabalho com dados \"relacionais\" ou \"rotulados\" fácil e intuitivo. Tem como objetivo ser o bloco de construção fundamental de alto nível para fazer análises de dados.\n",
    "- Matplotlib: É uma biblioteca abrangente para a criação de visualizações estáticas, animadas e interativas em Python. Produz figuras com qualidade de publicação em uma variedade de formatos impressos e ambientes interativos em várias plataformas. Matplotlib pode ser usado em scripts Python, o shell Python e IPython, servidores de aplicativos da web e vários kits de ferramentas de interface gráfica do usuário.\n",
    "- Seaborn: É uma biblioteca de visualização de dados Python baseada em matplotlib. Ele fornece uma interface de alto nível para desenhar gráficos estatísticos atraentes e informativos.\n",
    "- Scikit-learn: É uma biblioteca em Python para aprendizado de máquina desenvolvido com base no SciPy que fornece um conjunto de ferramentas de machine learning."
   ]
  },
  {
   "cell_type": "code",
   "execution_count": 1,
   "metadata": {},
   "outputs": [],
   "source": [
    "import numpy as np\n",
    "import pandas as pd\n",
    "import matplotlib.pyplot as plt\n",
    "import seaborn as sns\n",
    "from sklearn.model_selection import train_test_split\n",
    "from sklearn.metrics import accuracy_score\n",
    "\n",
    "%matplotlib inline"
   ]
  },
  {
   "cell_type": "markdown",
   "metadata": {},
   "source": [
    "# Abertura do arquivo\n",
    "Além de abrir o arquivo, conseguimos observar os 5 primeiros valores da base de dados."
   ]
  },
  {
   "cell_type": "code",
   "execution_count": 2,
   "metadata": {},
   "outputs": [
    {
     "data": {
      "text/html": [
       "<div>\n",
       "<style scoped>\n",
       "    .dataframe tbody tr th:only-of-type {\n",
       "        vertical-align: middle;\n",
       "    }\n",
       "\n",
       "    .dataframe tbody tr th {\n",
       "        vertical-align: top;\n",
       "    }\n",
       "\n",
       "    .dataframe thead th {\n",
       "        text-align: right;\n",
       "    }\n",
       "</style>\n",
       "<table border=\"1\" class=\"dataframe\">\n",
       "  <thead>\n",
       "    <tr style=\"text-align: right;\">\n",
       "      <th></th>\n",
       "      <th>sepal length (cm)</th>\n",
       "      <th>sepal width (cm)</th>\n",
       "      <th>petal length (cm)</th>\n",
       "      <th>petal width (cm)</th>\n",
       "      <th>especie</th>\n",
       "    </tr>\n",
       "  </thead>\n",
       "  <tbody>\n",
       "    <tr>\n",
       "      <th>0</th>\n",
       "      <td>7.0</td>\n",
       "      <td>3.2</td>\n",
       "      <td>4.7</td>\n",
       "      <td>1.4</td>\n",
       "      <td>versicolor</td>\n",
       "    </tr>\n",
       "    <tr>\n",
       "      <th>1</th>\n",
       "      <td>6.4</td>\n",
       "      <td>3.2</td>\n",
       "      <td>4.5</td>\n",
       "      <td>1.5</td>\n",
       "      <td>versicolor</td>\n",
       "    </tr>\n",
       "    <tr>\n",
       "      <th>2</th>\n",
       "      <td>6.9</td>\n",
       "      <td>3.1</td>\n",
       "      <td>4.9</td>\n",
       "      <td>1.5</td>\n",
       "      <td>versicolor</td>\n",
       "    </tr>\n",
       "    <tr>\n",
       "      <th>3</th>\n",
       "      <td>5.5</td>\n",
       "      <td>2.3</td>\n",
       "      <td>4.0</td>\n",
       "      <td>1.3</td>\n",
       "      <td>versicolor</td>\n",
       "    </tr>\n",
       "    <tr>\n",
       "      <th>4</th>\n",
       "      <td>6.5</td>\n",
       "      <td>2.8</td>\n",
       "      <td>4.6</td>\n",
       "      <td>1.5</td>\n",
       "      <td>versicolor</td>\n",
       "    </tr>\n",
       "  </tbody>\n",
       "</table>\n",
       "</div>"
      ],
      "text/plain": [
       "   sepal length (cm)  sepal width (cm)  petal length (cm)  petal width (cm)  \\\n",
       "0                7.0               3.2                4.7               1.4   \n",
       "1                6.4               3.2                4.5               1.5   \n",
       "2                6.9               3.1                4.9               1.5   \n",
       "3                5.5               2.3                4.0               1.3   \n",
       "4                6.5               2.8                4.6               1.5   \n",
       "\n",
       "      especie  \n",
       "0  versicolor  \n",
       "1  versicolor  \n",
       "2  versicolor  \n",
       "3  versicolor  \n",
       "4  versicolor  "
      ]
     },
     "execution_count": 2,
     "metadata": {},
     "output_type": "execute_result"
    }
   ],
   "source": [
    "df = pd.read_csv('data/iris_2class.csv')\n",
    "df.head()"
   ]
  },
  {
   "cell_type": "markdown",
   "metadata": {},
   "source": [
    "# Estatísticas descritivas \n",
    "As estatísticas são dadas ao agrupar os dados por espécies. "
   ]
  },
  {
   "cell_type": "code",
   "execution_count": 15,
   "metadata": {},
   "outputs": [
    {
     "data": {
      "text/html": [
       "<div>\n",
       "<style scoped>\n",
       "    .dataframe tbody tr th:only-of-type {\n",
       "        vertical-align: middle;\n",
       "    }\n",
       "\n",
       "    .dataframe tbody tr th {\n",
       "        vertical-align: top;\n",
       "    }\n",
       "\n",
       "    .dataframe thead tr th {\n",
       "        text-align: left;\n",
       "    }\n",
       "\n",
       "    .dataframe thead tr:last-of-type th {\n",
       "        text-align: right;\n",
       "    }\n",
       "</style>\n",
       "<table border=\"1\" class=\"dataframe\">\n",
       "  <thead>\n",
       "    <tr>\n",
       "      <th></th>\n",
       "      <th colspan=\"8\" halign=\"left\">sepal length (cm)</th>\n",
       "      <th colspan=\"2\" halign=\"left\">sepal width (cm)</th>\n",
       "      <th>...</th>\n",
       "      <th colspan=\"2\" halign=\"left\">petal length (cm)</th>\n",
       "      <th colspan=\"8\" halign=\"left\">petal width (cm)</th>\n",
       "    </tr>\n",
       "    <tr>\n",
       "      <th></th>\n",
       "      <th>count</th>\n",
       "      <th>mean</th>\n",
       "      <th>std</th>\n",
       "      <th>min</th>\n",
       "      <th>25%</th>\n",
       "      <th>50%</th>\n",
       "      <th>75%</th>\n",
       "      <th>max</th>\n",
       "      <th>count</th>\n",
       "      <th>mean</th>\n",
       "      <th>...</th>\n",
       "      <th>75%</th>\n",
       "      <th>max</th>\n",
       "      <th>count</th>\n",
       "      <th>mean</th>\n",
       "      <th>std</th>\n",
       "      <th>min</th>\n",
       "      <th>25%</th>\n",
       "      <th>50%</th>\n",
       "      <th>75%</th>\n",
       "      <th>max</th>\n",
       "    </tr>\n",
       "    <tr>\n",
       "      <th>especie</th>\n",
       "      <th></th>\n",
       "      <th></th>\n",
       "      <th></th>\n",
       "      <th></th>\n",
       "      <th></th>\n",
       "      <th></th>\n",
       "      <th></th>\n",
       "      <th></th>\n",
       "      <th></th>\n",
       "      <th></th>\n",
       "      <th></th>\n",
       "      <th></th>\n",
       "      <th></th>\n",
       "      <th></th>\n",
       "      <th></th>\n",
       "      <th></th>\n",
       "      <th></th>\n",
       "      <th></th>\n",
       "      <th></th>\n",
       "      <th></th>\n",
       "      <th></th>\n",
       "    </tr>\n",
       "  </thead>\n",
       "  <tbody>\n",
       "    <tr>\n",
       "      <th>versicolor</th>\n",
       "      <td>50.0</td>\n",
       "      <td>5.936</td>\n",
       "      <td>0.516171</td>\n",
       "      <td>4.9</td>\n",
       "      <td>5.600</td>\n",
       "      <td>5.9</td>\n",
       "      <td>6.3</td>\n",
       "      <td>7.0</td>\n",
       "      <td>50.0</td>\n",
       "      <td>2.770</td>\n",
       "      <td>...</td>\n",
       "      <td>4.600</td>\n",
       "      <td>5.1</td>\n",
       "      <td>50.0</td>\n",
       "      <td>1.326</td>\n",
       "      <td>0.197753</td>\n",
       "      <td>1.0</td>\n",
       "      <td>1.2</td>\n",
       "      <td>1.3</td>\n",
       "      <td>1.5</td>\n",
       "      <td>1.8</td>\n",
       "    </tr>\n",
       "    <tr>\n",
       "      <th>virginica</th>\n",
       "      <td>50.0</td>\n",
       "      <td>6.588</td>\n",
       "      <td>0.635880</td>\n",
       "      <td>4.9</td>\n",
       "      <td>6.225</td>\n",
       "      <td>6.5</td>\n",
       "      <td>6.9</td>\n",
       "      <td>7.9</td>\n",
       "      <td>50.0</td>\n",
       "      <td>2.974</td>\n",
       "      <td>...</td>\n",
       "      <td>5.875</td>\n",
       "      <td>6.9</td>\n",
       "      <td>50.0</td>\n",
       "      <td>2.026</td>\n",
       "      <td>0.274650</td>\n",
       "      <td>1.4</td>\n",
       "      <td>1.8</td>\n",
       "      <td>2.0</td>\n",
       "      <td>2.3</td>\n",
       "      <td>2.5</td>\n",
       "    </tr>\n",
       "  </tbody>\n",
       "</table>\n",
       "<p>2 rows × 32 columns</p>\n",
       "</div>"
      ],
      "text/plain": [
       "           sepal length (cm)                                              \\\n",
       "                       count   mean       std  min    25%  50%  75%  max   \n",
       "especie                                                                    \n",
       "versicolor              50.0  5.936  0.516171  4.9  5.600  5.9  6.3  7.0   \n",
       "virginica               50.0  6.588  0.635880  4.9  6.225  6.5  6.9  7.9   \n",
       "\n",
       "           sepal width (cm)         ... petal length (cm)       \\\n",
       "                      count   mean  ...               75%  max   \n",
       "especie                             ...                          \n",
       "versicolor             50.0  2.770  ...             4.600  5.1   \n",
       "virginica              50.0  2.974  ...             5.875  6.9   \n",
       "\n",
       "           petal width (cm)                                            \n",
       "                      count   mean       std  min  25%  50%  75%  max  \n",
       "especie                                                                \n",
       "versicolor             50.0  1.326  0.197753  1.0  1.2  1.3  1.5  1.8  \n",
       "virginica              50.0  2.026  0.274650  1.4  1.8  2.0  2.3  2.5  \n",
       "\n",
       "[2 rows x 32 columns]"
      ]
     },
     "execution_count": 15,
     "metadata": {},
     "output_type": "execute_result"
    }
   ],
   "source": [
    "df.groupby('especie').describe()"
   ]
  },
  {
   "cell_type": "markdown",
   "metadata": {},
   "source": [
    "# Histograma para cada atributo\n",
    "É realizado um histograma para os atributos: \n",
    "- sepal length (cm)\n",
    "- sepal width (cm)\n",
    "- petal length (cm)\n",
    "- petal width (cm)\n",
    "\n",
    "Em uma primeira análise, tendo em vista os histogramas, podemos perceber que os atributos sepal lenght e sepal width são muito semelhantes entre si, o contrário dos atributos petal lenght e petal widht, que em comparação, possuem mais valores que diferem entre si."
   ]
  },
  {
   "cell_type": "code",
   "execution_count": 16,
   "metadata": {},
   "outputs": [
    {
     "data": {
      "image/png": "[encoded data removed]",
      "text/plain": [
       "<Figure size 576x288 with 4 Axes>"
      ]
     },
     "metadata": {
      "needs_background": "light"
     },
     "output_type": "display_data"
    }
   ],
   "source": [
    "columns = ['sepal length (cm)', 'sepal width (cm)', 'petal length (cm)', 'petal width (cm)']\n",
    "fig, axes = plt.subplots(nrows=1, ncols=4, figsize=(8,4))\n",
    "\n",
    "for i, column in enumerate(columns):\n",
    "    sns.histplot(data=df, bins=10, x=column, hue='especie', multiple='dodge', shrink=0.8, ax=axes[i])\n",
    "\n",
    "plt.subplots_adjust(right=2.0, wspace=0.2)\n",
    "plt.show()"
   ]
  },
  {
   "cell_type": "markdown",
   "metadata": {},
   "source": [
    "# Scatterplots com os atributos\n",
    "É realizado um scatteplots com os seguintes pares de atributos:\n",
    "- sepal length (cm) e sepal width (cm)\n",
    "- petal length (cm) e petal width (cm)\n",
    "\n",
    "Como vemos no segundo scatterplot, os atributos petal lenght e petal width são os que inicialmente parecem serem os mais promissores."
   ]
  },
  {
   "cell_type": "code",
   "execution_count": 17,
   "metadata": {},
   "outputs": [
    {
     "data": {
      "image/png": "[encoded data removed]",
      "text/plain": [
       "<Figure size 576x288 with 1 Axes>"
      ]
     },
     "metadata": {
      "needs_background": "light"
     },
     "output_type": "display_data"
    },
    {
     "data": {
      "image/png": "[encoded data removed]",
      "text/plain": [
       "<Figure size 576x288 with 1 Axes>"
      ]
     },
     "metadata": {
      "needs_background": "light"
     },
     "output_type": "display_data"
    }
   ],
   "source": [
    "columns = [['sepal length (cm)', 'sepal width (cm)', 0], ['petal length (cm)', 'petal width (cm)', 1.65]]\n",
    "\n",
    "for column in columns:\n",
    "    plt.figure(figsize=(8,4))\n",
    "    sns.scatterplot(data=df, x=column[0], y=column[1], hue='especie')\n",
    "    \n",
    "    if column[2] != 0: plt.axhline(column[2], color='red', label='Limiar')\n",
    "    \n",
    "    plt.legend()\n",
    "    plt.show()"
   ]
  },
  {
   "cell_type": "markdown",
   "metadata": {},
   "source": [
    "# Análise\n",
    "Pelas nossas análises, percebemos que os atributos petal lenght e petal widht são os mais promissores para separar as espécies."
   ]
  },
  {
   "cell_type": "markdown",
   "metadata": {},
   "source": [
    "# Declaração de funções que serão utilizadas"
   ]
  },
  {
   "cell_type": "code",
   "execution_count": 18,
   "metadata": {},
   "outputs": [],
   "source": [
    "''' Metodo de classificacao por limiar \n",
    "\n",
    "Esse metodo realiza a classificacao de acordo com o limiar definido.\n",
    "Params: \n",
    "    limiar (o proprio limiar definido)\n",
    "    dados (os dados que serão utilizados)\n",
    "    rotulos (os rotulos para cada classe)\n",
    "'''\n",
    "\n",
    "def classificador_limiar(limiar, dados, rotulos=('versicolor', 'virginica')):\n",
    "    resposta = []\n",
    "\n",
    "    for _, dado in dados.iterrows():\n",
    "        if dado[0] <= limiar:\n",
    "            resposta.append(rotulos[0])\n",
    "        else:\n",
    "            resposta.append(rotulos[1])\n",
    "\n",
    "    return pd.DataFrame(resposta, columns=['especie'])\n",
    "\n",
    "''' Metodo acuracia \n",
    "\n",
    "Esse metodo realiza o calculo da acuracia.\n",
    "Params: \n",
    "    acertos (quantidade de acertos do classificador)\n",
    "    total_instancias (quantidade total de instancias)\n",
    "'''\n",
    "def acuracia(acertos, total_instancias):\n",
    "    return acertos / total_instancias\n",
    "\n",
    "''' Metodo da busca exaustiva\n",
    "\n",
    "Esse metodo realiza a busca exaustiva para encontrar o melhor limiar.\n",
    "Params: \n",
    "    n_limiares (quantidade de limiares a serem testados)\n",
    "    atributos (os dados)\n",
    "    rotulos (os rotulos dos dados)\n",
    "    alt_min (limiar minimo)\n",
    "    alt_max (limiar maximo)\n",
    "'''\n",
    "def busca_exaustiva(n_limiares, atributos, rotulos, alt_min, alt_max):\n",
    "    limiares = np.linspace(alt_min, alt_max, n_limiares)\n",
    "    \n",
    "    melhor_limiar = 0\n",
    "    melhor_acuracia = 0\n",
    "    pior_limiar = 0\n",
    "    menor_acuracia = 1\n",
    "    acuracias = []\n",
    "\n",
    "    for limiar in limiares[0:]:\n",
    "        predicoes = classificador_limiar(limiar, atributos)\n",
    "        acuracia = accuracy_score(rotulos, predicoes['especie'])\n",
    "        acuracias.append(acuracia)\n",
    "\n",
    "        if acuracia > melhor_acuracia:\n",
    "            melhor_acuracia = acuracia\n",
    "            melhor_limiar = limiar\n",
    "\n",
    "        if acuracia < menor_acuracia:\n",
    "            menor_acuracia = acuracia\n",
    "            pior_limiar = limiar\n",
    "            \n",
    "    return melhor_limiar, melhor_acuracia, menor_acuracia, pior_limiar, acuracias, limiares\n",
    "\n",
    "# separando os dados em treino e teste\n",
    "x_treino, x_teste, y_treino, y_teste = train_test_split(df[['petal width (cm)', 'petal length (cm)']], df['especie'],\\\n",
    "    test_size=0.2, stratify=df['especie'].tolist(), shuffle=True, random_state=10)"
   ]
  },
  {
   "cell_type": "markdown",
   "metadata": {},
   "source": [
    "# Execução da busca exaustiva procurando maximizar a acurácia\n",
    "Foram obtidos os seguintes resultados:\n",
    "- "
   ]
  },
  {
   "cell_type": "code",
   "execution_count": 19,
   "metadata": {},
   "outputs": [
    {
     "name": "stdout",
     "output_type": "stream",
     "text": [
      "Melhor limiar: 1.600   |   Melhor Acurácia: 0.938\n",
      "Pior limiar: 2.400     |   Pior Acurácia: 0.525\n",
      "Acurácia média: 0.762  |   Desvio padrão: 0.127\n"
     ]
    },
    {
     "data": {
      "image/png": "[encoded data removed]",
      "text/plain": [
       "<Figure size 576x288 with 1 Axes>"
      ]
     },
     "metadata": {
      "needs_background": "light"
     },
     "output_type": "display_data"
    }
   ],
   "source": [
    "melhor_limiar, melhor_acuracia, menor_acuracia, pior_limiar, acuracias, limiares = busca_exaustiva(100, x_treino, y_treino, 1.2, 2.4)\n",
    "print(\"Melhor limiar: %.3f   |   Melhor Acurácia: %.3f\" % (melhor_limiar, melhor_acuracia))\n",
    "print(\"Pior limiar: %.3f     |   Pior Acurácia: %.3f\" % (pior_limiar, menor_acuracia))\n",
    "print(\"Acurácia média: %.3f  |   Desvio padrão: %.3f\" % (np.mean(acuracias), np.std(acuracias)))\n",
    "\n",
    "fig, axes = plt.subplots(figsize=(8,4))\n",
    "axes.plot(limiares, acuracias)\n",
    "axes.axvline(melhor_limiar, color='red')\n",
    "axes.set_xlabel('Limiar')\n",
    "axes.set_ylabel('Acurácia')\n",
    "plt.show()"
   ]
  },
  {
   "cell_type": "markdown",
   "metadata": {},
   "source": [
    "# Execução da busca exaustiva com 20 particionamentos diferentes\n",
    "Foram obtidos os seguintes resultados:\n",
    "- Melhor acurácia: 1.000 \n",
    "- Pior acurácia: 0.850\n",
    "- Acurácia média: 0.955\n",
    "- Desvio padrão: 0.038"
   ]
  },
  {
   "cell_type": "code",
   "execution_count": 20,
   "metadata": {},
   "outputs": [
    {
     "name": "stdout",
     "output_type": "stream",
     "text": [
      "Melhor Acurácia: 1.000   |   Pior Acurácia: 0.850 \n",
      "Acurácia média: 0.947    |   Desvio padrão: 0.033\n"
     ]
    }
   ],
   "source": [
    "acuracias = []\n",
    "melhor_acuracia = 0\n",
    "pior_acuracia = 1\n",
    "\n",
    "for i in range(20):\n",
    "    x_treino, x_teste, y_treino, y_teste = train_test_split(df[['petal width (cm)', 'petal length (cm)']], df['especie'],\\\n",
    "    test_size=0.2, stratify=df['especie'].tolist(), shuffle=True, random_state=i)\n",
    "\n",
    "    limiar = busca_exaustiva(100, x_treino, y_treino, 1.5, 2.0)[0]\n",
    "\n",
    "    predicoes = classificador_limiar(limiar, x_teste)\n",
    "    acc = accuracy_score(y_teste, predicoes)\n",
    "    acuracias.append(acc)\n",
    "\n",
    "    if acc > melhor_acuracia:\n",
    "        melhor_acuracia = acc\n",
    "\n",
    "    if acc < pior_acuracia:\n",
    "        pior_acuracia = acc\n",
    "        \n",
    "\n",
    "print('Melhor Acurácia: %.3f   |   Pior Acurácia: %.3f' % (melhor_acuracia, pior_acuracia),\\\n",
    "    '\\nAcurácia média: %.3f    |   Desvio padrão: %.3f' % (np.mean(acuracias), np.std(acuracias)))"
   ]
  }
 ],
 "metadata": {
  "interpreter": {
   "hash": "a01cbe3509f40fe8fbb70f6e35a414a4aeac5b623ad71bdf179810de598dc153"
  },
  "kernelspec": {
   "display_name": "Python 3.9.7 64-bit",
   "name": "python3"
  },
  "language_info": {
   "codemirror_mode": {
    "name": "ipython",
    "version": 3
   },
   "file_extension": ".py",
   "mimetype": "text/x-python",
   "name": "python",
   "nbconvert_exporter": "python",
   "pygments_lexer": "ipython3",
   "version": "3.9.7"
  }
 },
 "nbformat": 4,
 "nbformat_minor": 5
}
