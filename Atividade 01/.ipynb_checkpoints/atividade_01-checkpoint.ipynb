{
 "cells": [
  {
   "cell_type": "markdown",
   "id": "f55f410f",
   "metadata": {},
   "source": [
    "# Atividade 01: Desenvolvimento de um Classificador Binário por Limiar\n",
    "### Aluno: Alisson da S Vieira\n",
    "\n",
    "## Descrição da Atividade\n",
    "Nesta atividade você vai implementar um classificador binário por limiar, conforme fizemos na Semana 2. A\n",
    "implementação deve ser feita em Python em um caderno no Jupyter.\n",
    "Você vai trabalhar com um subconjunto da base de dados “Iris”. Esta base de dados é muito famosa e\n",
    "amplamente utilizada em um contexto educativo para estudar aprendizagem de máquina. Esta base de\n",
    "dados contém 4 medidas de flores de 3 espécies diferentes. O subconjunto separado para esta atividade\n",
    "(iris_2class.csv) contém instâncias de 2 espécies: versicolor e virginica. Cada espécie está representada por\n",
    "50 instâncias."
   ]
  }
 ],
 "metadata": {
  "kernelspec": {
   "display_name": "Python 3 (ipykernel)",
   "language": "python",
   "name": "python3"
  },
  "language_info": {
   "codemirror_mode": {
    "name": "ipython",
    "version": 3
   },
   "file_extension": ".py",
   "mimetype": "text/x-python",
   "name": "python",
   "nbconvert_exporter": "python",
   "pygments_lexer": "ipython3",
   "version": "3.9.7"
  }
 },
 "nbformat": 4,
 "nbformat_minor": 5
}
